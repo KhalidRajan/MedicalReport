{
 "cells": [
  {
   "cell_type": "code",
   "execution_count": 1,
   "metadata": {},
   "outputs": [],
   "source": [
    "!pip install -qU langgraph==0.2.32 langchain==0.2.14 langchain_openai==0.1.23 langchain_core==0.2.39 langchain_community"
   ]
  },
  {
   "cell_type": "code",
   "execution_count": 2,
   "metadata": {},
   "outputs": [],
   "source": [
    "\n",
    "!pip install -qU --disable-pip-version-check qdrant-client pymupdf tiktoken"
   ]
  },
  {
   "cell_type": "code",
   "execution_count": 4,
   "metadata": {},
   "outputs": [
    {
     "name": "stdout",
     "output_type": "stream",
     "text": [
      "Collecting python-dotenv\n",
      "  Using cached python_dotenv-1.0.1-py3-none-any.whl.metadata (23 kB)\n",
      "Using cached python_dotenv-1.0.1-py3-none-any.whl (19 kB)\n",
      "Installing collected packages: python-dotenv\n",
      "Successfully installed python-dotenv-1.0.1\n"
     ]
    }
   ],
   "source": [
    "!pip install python-dotenv"
   ]
  },
  {
   "cell_type": "code",
   "execution_count": 5,
   "metadata": {},
   "outputs": [
    {
     "data": {
      "text/plain": [
       "True"
      ]
     },
     "execution_count": 5,
     "metadata": {},
     "output_type": "execute_result"
    }
   ],
   "source": [
    "import os\n",
    "from dotenv import load_dotenv\n",
    "\n",
    "load_dotenv()"
   ]
  },
  {
   "cell_type": "code",
   "execution_count": 6,
   "metadata": {},
   "outputs": [],
   "source": [
    "\n",
    "from typing import Any, Callable, List, Optional, TypedDict, Union\n",
    "\n",
    "from langchain.agents import AgentExecutor, create_openai_functions_agent\n",
    "from langchain.output_parsers.openai_functions import JsonOutputFunctionsParser\n",
    "from langchain_core.prompts import ChatPromptTemplate, MessagesPlaceholder\n",
    "from langchain_core.messages import AIMessage, BaseMessage, HumanMessage\n",
    "from langchain_core.runnables import Runnable\n",
    "from langchain_core.tools import BaseTool\n",
    "from langchain_openai import ChatOpenAI\n",
    "\n",
    "from langgraph.graph import END, StateGraph"
   ]
  },
  {
   "cell_type": "markdown",
   "metadata": {},
   "source": [
    "## Agent Node Helper"
   ]
  },
  {
   "cell_type": "code",
   "execution_count": 7,
   "metadata": {},
   "outputs": [],
   "source": [
    "def agent_node(state, agent, name):\n",
    "    result = agent.invoke(state)\n",
    "    return {\"messages\": [HumanMessage(content=result[\"output\"], name=name)]}"
   ]
  },
  {
   "cell_type": "markdown",
   "metadata": {},
   "source": [
    "## Agent Creator Helper Function"
   ]
  },
  {
   "cell_type": "code",
   "execution_count": 8,
   "metadata": {},
   "outputs": [],
   "source": [
    "def create_agent(\n",
    "    llm: ChatOpenAI,\n",
    "    tools: list,\n",
    "    system_prompt: str,\n",
    ") -> str:\n",
    "    \"\"\"Create a function-calling agent and add it to the graph.\"\"\"\n",
    "    system_prompt += (\"\\nWork autonomously according to your specialty, using the tools available to you.\"\n",
    "    \" Do not ask for clarification.\"\n",
    "    \" Your other team members (and other teams) will collaborate with you with their own specialties.\"\n",
    "    \" You are chosen for a reason! You are one of the following team members: {team_members}.\")\n",
    "    prompt = ChatPromptTemplate.from_messages(\n",
    "        [\n",
    "            (\n",
    "                \"system\",\n",
    "                system_prompt,\n",
    "            ),\n",
    "            MessagesPlaceholder(variable_name=\"messages\"),\n",
    "            MessagesPlaceholder(variable_name=\"agent_scratchpad\"),\n",
    "        ]\n",
    "    )\n",
    "    agent = create_openai_functions_agent(llm, tools, prompt)\n",
    "    executor = AgentExecutor(agent=agent, tools=tools)\n",
    "    return executor"
   ]
  },
  {
   "cell_type": "markdown",
   "metadata": {},
   "source": [
    "## Supervisor Helper Function"
   ]
  },
  {
   "cell_type": "code",
   "execution_count": 9,
   "metadata": {},
   "outputs": [],
   "source": [
    "def create_team_supervisor(llm: ChatOpenAI, system_prompt, members) -> str:\n",
    "    \"\"\"An LLM-based router.\"\"\"\n",
    "    options = [\"FINISH\"] + members\n",
    "    function_def = {\n",
    "        \"name\": \"route\",\n",
    "        \"description\": \"Select the next role.\",\n",
    "        \"parameters\": {\n",
    "            \"title\": \"routeSchema\",\n",
    "            \"type\": \"object\",\n",
    "            \"properties\": {\n",
    "                \"next\": {\n",
    "                    \"title\": \"Next\",\n",
    "                    \"anyOf\": [\n",
    "                        {\"enum\": options},\n",
    "                    ],\n",
    "                },\n",
    "            },\n",
    "            \"required\": [\"next\"],\n",
    "        },\n",
    "    }\n",
    "    prompt = ChatPromptTemplate.from_messages(\n",
    "        [\n",
    "            (\"system\", system_prompt),\n",
    "            MessagesPlaceholder(variable_name=\"messages\"),\n",
    "            (\n",
    "                \"system\",\n",
    "                \"Given the conversation above, who should act next?\"\n",
    "                \" Or should we FINISH? Select one of: {options}\",\n",
    "            ),\n",
    "        ]\n",
    "    ).partial(options=str(options), team_members=\", \".join(members))\n",
    "    return (\n",
    "        prompt\n",
    "        | llm.bind_functions(functions=[function_def], function_call=\"route\")\n",
    "        | JsonOutputFunctionsParser()\n",
    "    )"
   ]
  },
  {
   "cell_type": "markdown",
   "metadata": {},
   "source": [
    "# Medical Research Team"
   ]
  },
  {
   "cell_type": "code",
   "execution_count": 14,
   "metadata": {},
   "outputs": [
    {
     "name": "stdout",
     "output_type": "stream",
     "text": [
      "Requirement already satisfied: duckduckgo-search in /opt/anaconda3/envs/medical_report_env/lib/python3.12/site-packages (7.2.1)\n",
      "Requirement already satisfied: click>=8.1.7 in /opt/anaconda3/envs/medical_report_env/lib/python3.12/site-packages (from duckduckgo-search) (8.1.8)\n",
      "Requirement already satisfied: primp>=0.10.0 in /opt/anaconda3/envs/medical_report_env/lib/python3.12/site-packages (from duckduckgo-search) (0.10.0)\n",
      "Requirement already satisfied: lxml>=5.3.0 in /opt/anaconda3/envs/medical_report_env/lib/python3.12/site-packages (from duckduckgo-search) (5.3.0)\n",
      "Collecting xmltodict\n",
      "  Using cached xmltodict-0.14.2-py2.py3-none-any.whl.metadata (8.0 kB)\n",
      "Using cached xmltodict-0.14.2-py2.py3-none-any.whl (10.0 kB)\n",
      "Installing collected packages: xmltodict\n",
      "Successfully installed xmltodict-0.14.2\n"
     ]
    }
   ],
   "source": [
    "!pip install -U duckduckgo-search\n",
    "!pip install xmltodict"
   ]
  },
  {
   "cell_type": "code",
   "execution_count": 15,
   "metadata": {},
   "outputs": [],
   "source": [
    "from langchain_community.tools import DuckDuckGoSearchResults\n",
    "\n",
    "ddg_search = DuckDuckGoSearchResults(max_results = 5)"
   ]
  },
  {
   "cell_type": "code",
   "execution_count": 16,
   "metadata": {},
   "outputs": [],
   "source": [
    "from langchain_community.tools.pubmed.tool import PubmedQueryRun\n",
    "\n",
    "pubmed_search = PubmedQueryRun()"
   ]
  },
  {
   "cell_type": "code",
   "execution_count": 17,
   "metadata": {},
   "outputs": [],
   "source": [
    "import functools\n",
    "import operator\n",
    "from typing import Annotated, List, Tuple, Union\n",
    "\n",
    "from langchain_core.messages import HumanMessage, AIMessage, BaseMessage\n",
    "from langchain_openai.chat_models import ChatOpenAI\n",
    "import functools\n",
    "\n",
    "class ResearchTeamState(TypedDict):\n",
    "    messages: Annotated[List[BaseMessage], operator.add]\n",
    "    team_members: List[str]\n",
    "    next: str"
   ]
  },
  {
   "cell_type": "markdown",
   "metadata": {},
   "source": [
    "## Research Team LLM"
   ]
  },
  {
   "cell_type": "code",
   "execution_count": 34,
   "metadata": {},
   "outputs": [],
   "source": [
    "llm = ChatOpenAI(model=\"gpt-4o-mini\")"
   ]
  },
  {
   "cell_type": "markdown",
   "metadata": {},
   "source": [
    "## Research Team Agents and Nodes"
   ]
  },
  {
   "cell_type": "code",
   "execution_count": 35,
   "metadata": {},
   "outputs": [],
   "source": [
    "web_search_agent = create_agent(\n",
    "    llm,\n",
    "    [ddg_search],\n",
    "    \"You are a research assistant who can search the internet for up-to-date information using the DuckDuckGo search engine.\"\n",
    ")\n",
    "\n",
    "web_search_node = functools.partial(agent_node, agent = web_search_agent, name = \"WebSearch\")"
   ]
  },
  {
   "cell_type": "code",
   "execution_count": 36,
   "metadata": {},
   "outputs": [],
   "source": [
    "pubmed_search_agent = create_agent(\n",
    "    llm,\n",
    "    [pubmed_search],\n",
    "    \"You are a research assistant who can search through biomedical literature on the PubMed platform.\"\n",
    ")\n",
    "\n",
    "pubmed_search_node = functools.partial(agent_node, agent = pubmed_search_agent, name = \"PubMedSearch\")"
   ]
  },
  {
   "cell_type": "code",
   "execution_count": 37,
   "metadata": {},
   "outputs": [],
   "source": [
    "supervisor_agent = create_team_supervisor(\n",
    "    llm,\n",
    "    (\"You are a supervisor tasked with managing a conversation between the\"\n",
    "    \" following workers:  WebSearch, PubMedSearch. Given the following user request,\"\n",
    "    \" determine the subject to be researched and respond with the worker to act next. Each worker will perform a\"\n",
    "    \" task and respond with their results and status. \"\n",
    "    \" You should never ask your team to do anything beyond research. They are not required to write content or posts.\"\n",
    "    \" You should only pass tasks to workers that are specifically research focused.\"\n",
    "    \" When finished, respond with FINISH.\"),\n",
    "    [\"WebSearch\", \"PubMedSearch\"]\n",
    ")"
   ]
  },
  {
   "cell_type": "code",
   "execution_count": 38,
   "metadata": {},
   "outputs": [
    {
     "data": {
      "text/plain": [
       "<langgraph.graph.state.StateGraph at 0x13c15e390>"
      ]
     },
     "execution_count": 38,
     "metadata": {},
     "output_type": "execute_result"
    }
   ],
   "source": [
    "research_graph = StateGraph(ResearchTeamState)\n",
    "\n",
    "research_graph.add_node(\"WebSearch\", web_search_node)\n",
    "research_graph.add_node(\"PubMedSearch\", pubmed_search_node)\n",
    "research_graph.add_node(\"Supervisor\", supervisor_agent)"
   ]
  },
  {
   "cell_type": "code",
   "execution_count": 39,
   "metadata": {},
   "outputs": [
    {
     "data": {
      "text/plain": [
       "<langgraph.graph.state.StateGraph at 0x13c15e390>"
      ]
     },
     "execution_count": 39,
     "metadata": {},
     "output_type": "execute_result"
    }
   ],
   "source": [
    "research_graph.add_edge(\"WebSearch\", \"Supervisor\")\n",
    "research_graph.add_edge(\"PubMedSearch\", \"Supervisor\")\n",
    "research_graph.add_conditional_edges(\n",
    "    \"Supervisor\",\n",
    "    lambda x: x[\"next\"],\n",
    "    {\"WebSearch\": \"WebSearch\", \"PubMedSearch\": \"PubMedSearch\", \"FINISH\": END}\n",
    ")"
   ]
  },
  {
   "cell_type": "code",
   "execution_count": 40,
   "metadata": {},
   "outputs": [],
   "source": [
    "research_graph.set_entry_point(\"Supervisor\")\n",
    "chain = research_graph.compile()"
   ]
  },
  {
   "cell_type": "code",
   "execution_count": 41,
   "metadata": {},
   "outputs": [],
   "source": [
    "!pip install -qU python_mermaid"
   ]
  },
  {
   "cell_type": "code",
   "execution_count": 42,
   "metadata": {},
   "outputs": [
    {
     "data": {
      "image/jpeg": "[encoded data removed]",
      "text/plain": [
       "<IPython.core.display.Image object>"
      ]
     },
     "metadata": {},
     "output_type": "display_data"
    }
   ],
   "source": [
    "from IPython.display import Image, display\n",
    "\n",
    "try:\n",
    "    display(Image(chain.get_graph(xray=True).draw_mermaid_png()))\n",
    "except:\n",
    "    pass"
   ]
  },
  {
   "cell_type": "code",
   "execution_count": 43,
   "metadata": {},
   "outputs": [],
   "source": [
    "def enter_chain(message: str):\n",
    "    results = {\n",
    "        \"messages\": [HumanMessage(content=message)],\n",
    "        \"team_members\": [\"WebSearch\", \"PubMedSearch\"]\n",
    "    }\n",
    "\n",
    "    return results"
   ]
  },
  {
   "cell_type": "code",
   "execution_count": 44,
   "metadata": {},
   "outputs": [],
   "source": [
    "research_chain = enter_chain | chain"
   ]
  },
  {
   "cell_type": "code",
   "execution_count": 46,
   "metadata": {},
   "outputs": [
    {
     "name": "stdout",
     "output_type": "stream",
     "text": [
      "{'Supervisor': {'next': 'WebSearch'}}\n",
      "---\n"
     ]
    },
    {
     "name": "stderr",
     "output_type": "stream",
     "text": [
      "/opt/anaconda3/envs/medical_report_env/lib/python3.12/site-packages/langchain_community/utilities/duckduckgo_search.py:62: UserWarning: backend='api' is deprecated, using backend='auto'\n",
      "  ddgs_gen = ddgs.text(\n"
     ]
    },
    {
     "name": "stdout",
     "output_type": "stream",
     "text": [
      "{'WebSearch': {'messages': [HumanMessage(content='Here are some insights into items that are considered carcinogenic:\\n\\n1. **Processed Meats**: The World Health Organization (WHO) classifies processed meat products as Group 1 carcinogens, meaning they are known to cause cancer. This classification is similar to that of tobacco smoking and asbestos exposure. Ingredients such as nitrates and nitrites used in meat processing can lead to the formation of cancer-causing chemicals.\\n\\n   - [Read more about processed meats](https://health.usnews.com/conditions/cancer/articles/worst-cancer-causing-foods)\\n\\n2. **Cooking Methods**: Overcooking foods, especially meats, can produce carcinogens. Cooking meat at high temperatures can create harmful substances like polycyclic aromatic hydrocarbons (PAHs) and heterocyclic amines (HCAs), which are linked to cancer.\\n\\n   - [Learn more about cooking and cancer risk](https://www.healthline.com/health/cancer/cancer-causing-foods)\\n\\n3. **Other Food Items**: In addition to processed meats, certain other food items have also been associated with cancer risks. The International Agency for Research on Cancer (IARC) has identified various food-related carcinogens, emphasizing that cooking methods and food processing play significant roles in carcinogen formation.\\n\\n   - [Explore more about carcinogenic food items](https://www.verywellhealth.com/foods-that-cause-cancer-8670912)\\n\\n4. **Occupational Hazards**: Certain professions, including firefighting, hair styling, and house painting, have been identified as carrying carcinogenic risks due to exposure to harmful substances.\\n\\n   - [See more about occupational carcinogens](https://www.discovermagazine.com/health/these-human-made-items-carry-carcinogens-that-cause-cancer)\\n\\nThese findings highlight the importance of being aware of both dietary choices and occupational exposures in relation to cancer risk.', name='WebSearch')]}}\n",
      "---\n",
      "{'Supervisor': {'next': 'PubMedSearch'}}\n",
      "---\n",
      "Too Many Requests, waiting for 0.20 seconds...\n",
      "Too Many Requests, waiting for 0.40 seconds...\n",
      "{'PubMedSearch': {'messages': [HumanMessage(content='Here are some relevant findings regarding carcinogenic items based on recent biomedical literature:\\n\\n1. **Asbestos**: Asbestos exposure is a leading cause of work-related deaths, primarily due to its association with cancers such as malignant mesothelioma. A systematic literature review highlighted the psychological distress associated with asbestos-related diseases, indicating that cancer risks are profound not only for the affected individuals but also for their caregivers.\\n\\n2. **E-Cigarettes**: Recent studies have raised concerns about the carcinogenic potential of e-cigarette aerosols, which contain various harmful substances, including carcinogens. These aerosols can cause oral health issues and may contribute to inflammatory and pre-malignant lesions in oral epithelial tissues. The toxic components in e-cigarettes are linked to oxidative stress, which can damage DNA and contribute to cancer risk.\\n\\n3. **Potentially Toxic Elements in Food**: A global systematic review has assessed the concentration of potentially toxic elements (PTEs) in honey, highlighting concerns regarding dietary exposure to these elements and their possible carcinogenic effects.\\n\\nThese findings emphasize the significance of both dietary and occupational exposures in relation to cancer risk. Continued research is essential to fully understand the implications of these carcinogenic items and to inform public health strategies.', name='PubMedSearch')]}}\n",
      "---\n",
      "{'Supervisor': {'next': 'FINISH'}}\n",
      "---\n"
     ]
    }
   ],
   "source": [
    "for s in research_chain.stream(\n",
    "    \"Find out about carinogenic items.\"\n",
    "):\n",
    "    if \"__end__\" not in s:\n",
    "        print(s)\n",
    "        print(\"---\")"
   ]
  },
  {
   "cell_type": "markdown",
   "metadata": {},
   "source": [
    "# Medical Report Writing Team"
   ]
  },
  {
   "cell_type": "markdown",
   "metadata": {},
   "source": [
    "## Tool Creation"
   ]
  },
  {
   "cell_type": "code",
   "execution_count": 54,
   "metadata": {},
   "outputs": [],
   "source": [
    "from pathlib import Path\n",
    "from tempfile import TemporaryDirectory\n",
    "from typing import Dict, Optional\n",
    "from typing_extensions import TypedDict\n",
    "from langchain_core.tools import tool\n",
    "import uuid\n",
    "import os\n",
    "\n",
    "os.makedirs('./medical_content/data', exist_ok=True)\n",
    "\n",
    "def create_random_subdir():\n",
    "    random_id = str(uuid.uuid4())[:8] # first 8 chars\n",
    "    subdir_path = os.path.join('./medical_content/data', random_id)\n",
    "    os.makedirs(subdir_path, exist_ok=True)\n",
    "    return subdir_path\n",
    "\n",
    "WORKING_DIR = Path(create_random_subdir())\n",
    "\n",
    "\n",
    "@tool\n",
    "def create_outline(\n",
    "    points: Annotated[List[str], \"List of main points or sections.\"],\n",
    "    file_name: Annotated[str, \"File path to save the outline.\"],\n",
    ") -> Annotated[str, \"Path of the saved outline file.\"]:\n",
    "    \"\"\"Create and save an outline.\"\"\"\n",
    "    with (WORKING_DIR / file_name).open(\"w\") as file:\n",
    "        for i, point in enumerate(points):\n",
    "            file.write(f\"{i + 1}. {point}\\n\")\n",
    "    return f\"Outline saved to {file_name}\"\n",
    "\n",
    "@tool\n",
    "def read_document(\n",
    "    file_name: Annotated[str, \"File path to save the document.\"],\n",
    "    start: Annotated[Optional[int], \"The start line. Default is 0\"] = None,\n",
    "    end: Annotated[Optional[int], \"The end line. Default is None\"] = None,\n",
    "):\n",
    "    \"\"\"Read the specified document.\"\"\"\n",
    "    with (WORKING_DIR / file_name).open(\"r\") as file:\n",
    "        lines = file.readlines()\n",
    "    if start is None:\n",
    "        start = 0\n",
    "    return \"\\n\".join(lines[start:end])\n",
    "\n",
    "@tool\n",
    "def write_document(\n",
    "    content: Annotated[str, \"Text content to be written into the document.\"],\n",
    "    file_name: Annotated[str, \"File path to save the document.\"],\n",
    ") -> Annotated[str, \"Path of the saved document file.\"]:\n",
    "    \"\"\"Create and save a text document.\"\"\"\n",
    "    with (WORKING_DIR / file_name).open(\"w\") as file:\n",
    "        file.write(content)\n",
    "    return f\"Document saved to {file_name}\"\n",
    "\n",
    "@tool\n",
    "def edit_document(\n",
    "    file_name: Annotated[str, \"Path of the document to be edited.\"],\n",
    "    inserts: Annotated[\n",
    "        Dict[int, str],\n",
    "        \"Dictionary where key is the line number (1-indexed) and value is the text to be inserted at that line.\",\n",
    "    ] = {},\n",
    ") -> Annotated[str, \"Path of the edited document file.\"]:\n",
    "    \"\"\"Edit a document by inserting text at specific line numbers.\"\"\"\n",
    "\n",
    "    with (WORKING_DIR / file_name).open(\"r\") as file:\n",
    "        lines = file.readlines()\n",
    "\n",
    "    sorted_inserts = sorted(inserts.items())\n",
    "\n",
    "    for line_number, text in sorted_inserts:\n",
    "        if 1 <= line_number <= len(lines) + 1:\n",
    "            lines.insert(line_number - 1, text + \"\\n\")\n",
    "        else:\n",
    "            return f\"Error: Line number {line_number} is out of range.\"\n",
    "\n",
    "    with (WORKING_DIR / file_name).open(\"w\") as file:\n",
    "        file.writelines(lines)\n",
    "\n",
    "    return f\"Document edited and saved to {file_name}\""
   ]
  },
  {
   "cell_type": "code",
   "execution_count": 55,
   "metadata": {},
   "outputs": [],
   "source": [
    "import operator\n",
    "from pathlib import Path\n",
    "\n",
    "class DocumentWritingState(TypedDict):\n",
    "    messages: Annotated[List[BaseMessage], operator.add]\n",
    "    team_members: str\n",
    "    next: str\n",
    "    current_files: str"
   ]
  },
  {
   "cell_type": "code",
   "execution_count": 56,
   "metadata": {},
   "outputs": [],
   "source": [
    "def prelude(state):\n",
    "    written_files = []\n",
    "    if not WORKING_DIR.exists():\n",
    "        WORKING_DIR.mkdir()\n",
    "    \n",
    "    try:\n",
    "        written_files = [f.relative_to(WORKING_DIR) for f in WORKING_DIR.rglob(\"*\")]\n",
    "    \n",
    "    except:\n",
    "        pass\n",
    "\n",
    "    if not written_files:\n",
    "        return {**state, \"current_files\": \"No files written.\"}\n",
    "\n",
    "    return {\n",
    "        **state,\n",
    "        \"current_files\": \"\\nBelow are files your team has written to the directory:\\n\"\n",
    "        + \"\\n\".join([f\" - {f}\" for f in written_files]),\n",
    "    }\n"
   ]
  },
  {
   "cell_type": "markdown",
   "metadata": {},
   "source": [
    "## Agents and Nodes Creation"
   ]
  },
  {
   "cell_type": "code",
   "execution_count": 91,
   "metadata": {},
   "outputs": [],
   "source": [
    "doc_writer_agent = create_agent(\n",
    "    llm,\n",
    "    [write_document, read_document, edit_document],\n",
    "    (\"You are an expert writing technical meteorological reports.\\n\"\n",
    "    \"Below are files currently in your directory:\\n{current_files}\"),\n",
    ")\n",
    "\n",
    "doc_writer_agent_with_context = prelude | doc_writer_agent\n",
    "doc_writing_node = functools.partial(\n",
    "    agent_node, agent = doc_writer_agent_with_context, name = \"DocWriter\"\n",
    ")\n",
    "\n",
    "note_taking_agent = create_agent(\n",
    "    llm,\n",
    "    [create_outline, read_document],\n",
    "    (\"You are an expert senior researcher tasked with writing a meteorological reports outline and\"\n",
    "    \" taking notes to craft a meteorological reports.\\n{current_files}\"),\n",
    ")\n",
    "note_taking_agent_with_context = prelude | note_taking_agent\n",
    "note_taking_node = functools.partial(\n",
    "    agent_node, agent = note_taking_agent_with_context, name = \"NoteTaker\"\n",
    ")\n",
    "\n",
    "copy_editor_agent = create_agent(\n",
    "    llm,\n",
    "    [write_document, read_document, edit_document],\n",
    "    (\"You are an expert copy editor who focuses on fixing grammar, spelling, and tone issues\\n\"\n",
    "    \"Below are files currently in your directory:\\n{current_files}\"),\n",
    ")\n",
    "\n",
    "copy_editor_agent_with_context = prelude | copy_editor_agent\n",
    "copy_editor_node = functools.partial(\n",
    "    agent_node, agent = copy_editor_agent_with_context, name = \"CopyEditor\"\n",
    ")"
   ]
  },
  {
   "cell_type": "code",
   "execution_count": 92,
   "metadata": {},
   "outputs": [],
   "source": [
    "doc_writing_supervisor = create_team_supervisor(\n",
    "    llm,\n",
    "    (\"You are a supervisor tasked with managing a conversation between the\"\n",
    "    \" following workers: {team_members}. You should always verify the technical\"\n",
    "    \" contents after any edits are made. \"\n",
    "    \"Given the following user request,\"\n",
    "    \" respond with the worker to act next. Each worker will perform a\"\n",
    "    \" task and respond with their results and status. When each team is finished,\"\n",
    "    \" you must respond with FINISH.\"),\n",
    "    [\"DocWriter\", \"NoteTaker\",\"CopyEditor\"],\n",
    ")"
   ]
  },
  {
   "cell_type": "code",
   "execution_count": 93,
   "metadata": {},
   "outputs": [],
   "source": [
    "authoring_graph = StateGraph(DocumentWritingState)\n",
    "authoring_graph.add_node(\"DocWriter\", doc_writing_node)\n",
    "authoring_graph.add_node(\"NoteTaker\", note_taking_node)\n",
    "authoring_graph.add_node(\"CopyEditor\", copy_editor_node)\n",
    "authoring_graph.add_node(\"Supervisor\", doc_writing_supervisor)\n",
    "\n",
    "authoring_graph.add_edge(\"DocWriter\", \"Supervisor\")\n",
    "authoring_graph.add_edge(\"NoteTaker\", \"Supervisor\",)\n",
    "authoring_graph.add_edge(\"CopyEditor\", \"Supervisor\")\n",
    "\n",
    "authoring_graph.add_conditional_edges(\n",
    "    \"Supervisor\",\n",
    "    lambda x: x[\"next\"],\n",
    "    {\n",
    "        \"DocWriter\": \"DocWriter\",\n",
    "        \"NoteTaker\": \"NoteTaker\",\n",
    "        \"CopyEditor\": \"CopyEditor\",\n",
    "        \"FINISH\": END\n",
    "    }\n",
    ")\n",
    "\n",
    "authoring_graph.set_entry_point(\"Supervisor\")\n",
    "chain = authoring_graph.compile()"
   ]
  },
  {
   "cell_type": "code",
   "execution_count": 94,
   "metadata": {},
   "outputs": [
    {
     "data": {
      "image/jpeg": "[encoded data removed]",
      "text/plain": [
       "<IPython.core.display.Image object>"
      ]
     },
     "metadata": {},
     "output_type": "display_data"
    }
   ],
   "source": [
    "from IPython.display import Image, display\n",
    "\n",
    "try:\n",
    "    display(Image(chain.get_graph(xray=True).draw_mermaid_png()))\n",
    "except:\n",
    "    pass"
   ]
  },
  {
   "cell_type": "code",
   "execution_count": 95,
   "metadata": {},
   "outputs": [],
   "source": [
    "def enter_chain(\n",
    "        message: str,\n",
    "        members: List[str]\n",
    "):\n",
    "    results = {\n",
    "        \"messages\": [HumanMessage(content=message)],\n",
    "        \"team_members\": \", \".join(members)\n",
    "    }\n",
    "\n",
    "    return results"
   ]
  },
  {
   "cell_type": "code",
   "execution_count": 96,
   "metadata": {},
   "outputs": [],
   "source": [
    "authoring_chain = (functools.partial(enter_chain, members = authoring_graph.nodes) | chain)"
   ]
  },
  {
   "cell_type": "markdown",
   "metadata": {},
   "source": [
    "# Create Meta-Supervisor and Full Graph"
   ]
  },
  {
   "cell_type": "code",
   "execution_count": 97,
   "metadata": {},
   "outputs": [],
   "source": [
    "llm = ChatOpenAI(model = \"gpt-4o-mini\")"
   ]
  },
  {
   "cell_type": "code",
   "execution_count": 98,
   "metadata": {},
   "outputs": [],
   "source": [
    "supervisor_node = create_team_supervisor(\n",
    "    llm,\n",
    "    (\"You are a supervisor tasked with managing a conversation between the\"\n",
    "    \" following teams: {team_members}. Given the following user request,\"\n",
    "    \" respond with the worker to act next. Each worker will perform a\"\n",
    "    \" task and respond with their results and status. When all workers are finished,\"\n",
    "    \" you must respond with FINISH.\"),\n",
    "    [\"Medical Research Team\", \"Medical Report Team\"],\n",
    ")"
   ]
  },
  {
   "cell_type": "code",
   "execution_count": 99,
   "metadata": {},
   "outputs": [],
   "source": [
    "class State(TypedDict):\n",
    "    messages: Annotated[List[BaseMessage], operator.add]\n",
    "    next: str\n",
    "\n",
    "def get_last_message(state: State) -> str:\n",
    "    return state[\"messages\"][-1].content\n",
    "\n",
    "def join_graph(response: dict):\n",
    "    return {\"messages\": [response[\"messages\"][-1]]}"
   ]
  },
  {
   "cell_type": "code",
   "execution_count": 100,
   "metadata": {},
   "outputs": [
    {
     "data": {
      "text/plain": [
       "<langgraph.graph.state.StateGraph at 0x14c6dbe00>"
      ]
     },
     "execution_count": 100,
     "metadata": {},
     "output_type": "execute_result"
    }
   ],
   "source": [
    "super_graph = StateGraph(State)\n",
    "\n",
    "super_graph.add_node(\"Medical Research Team\", get_last_message | research_chain | join_graph)\n",
    "super_graph.add_node(\"Medical Report Team\", get_last_message | authoring_chain | join_graph)\n",
    "\n",
    "super_graph.add_node(\"Supervisor\", supervisor_node)"
   ]
  },
  {
   "cell_type": "code",
   "execution_count": 101,
   "metadata": {},
   "outputs": [],
   "source": [
    "super_graph.add_edge(\"Medical Research Team\", \"Supervisor\")\n",
    "super_graph.add_edge(\"Medical Report Team\", \"Supervisor\")\n",
    "super_graph.add_conditional_edges(\n",
    "    \"Supervisor\",\n",
    "    lambda x: x[\"next\"],\n",
    "    {\n",
    "        \"Medical Research Team\": \"Medical Research Team\",\n",
    "        \"Medical Report Team\": \"Medical Report Team\",\n",
    "        \"FINISH\": END,\n",
    "    },\n",
    ")\n",
    "\n",
    "super_graph.set_entry_point(\"Supervisor\")\n",
    "super_graph = super_graph.compile()"
   ]
  },
  {
   "cell_type": "code",
   "execution_count": 104,
   "metadata": {},
   "outputs": [],
   "source": [
    "def process_user_query(user_query: str) -> dict:\n",
    "    \"\"\"Wraps the user query with standard instructions for the system.\"\"\"\n",
    "    full_query = (f\"{user_query} First consult the research team. \"\n",
    "                 \"Then consult the report team and construct a well-structured report \"\n",
    "                 \"with significant research findings.\")\n",
    "    \n",
    "    return {\n",
    "        \"messages\": [\n",
    "            HumanMessage(content=full_query)\n",
    "        ]\n",
    "    }"
   ]
  },
  {
   "cell_type": "code",
   "execution_count": 105,
   "metadata": {},
   "outputs": [
    {
     "name": "stdout",
     "output_type": "stream",
     "text": [
      "{'Supervisor': {'next': 'Medical Research Team'}}\n",
      "---\n"
     ]
    },
    {
     "name": "stderr",
     "output_type": "stream",
     "text": [
      "/opt/anaconda3/envs/medical_report_env/lib/python3.12/site-packages/langchain_community/utilities/duckduckgo_search.py:62: UserWarning: backend='api' is deprecated, using backend='auto'\n",
      "  ddgs_gen = ddgs.text(\n"
     ]
    },
    {
     "name": "stdout",
     "output_type": "stream",
     "text": [
      "{'Medical Research Team': {'messages': [HumanMessage(content='# Report on Carcinogenic Items, Foods, and Products in Daily Life\\n\\n## Introduction\\nCarcinogens are substances that are known to cause cancer in humans. They can be found in various forms, including chemicals, foods, and products we encounter in our daily lives. Understanding these carcinogens is crucial for minimizing exposure and reducing cancer risk. This report aims to highlight common carcinogenic items, foods, and products and provide recommendations for avoiding them.\\n\\n## Common Carcinogenic Items in Daily Life\\n\\n### 1. Artificial Sweeteners\\nRecent studies have raised concerns regarding artificial sweeteners like aspartame, which is commonly found in diet drinks and various processed foods. Health authorities have classified aspartame as possibly carcinogenic, although definitive evidence of its cancer-causing effects is still limited ([Harvard Health](https://www.health.harvard.edu/cancer/cancer-concerns-from-everyday-products)).\\n\\n### 2. Plastic Containers\\nMany plastic food storage containers contain harmful chemicals like bisphenol A (BPA) and phthalates. These chemicals have been linked to increased cancer risk. It is advisable to opt for glass or stainless-steel containers for food storage to minimize exposure ([Hindustan Times](https://www.hindustantimes.com/lifestyle/health/cancercausing-daily-items-7-everyday-things-in-your-house-that-are-carcinogenic-101713502389265.html)).\\n\\n### 3. Synthetic Cleaning Products\\nHousehold cleaning products often contain toxic chemicals such as ammonia, chlorine, and formaldehyde. These substances can release volatile organic compounds (VOCs) into the air, which are associated with respiratory issues and certain cancers. Prolonged exposure to these chemicals can significantly heighten cancer risks ([Gardening Soul](https://gardeningsoul.com/6-common-cancer-causing-items-that-you-need-to-rid-your-home-of/)).\\n\\n### 4. Air Fresheners\\nRegular use of air fresheners can lead to the accumulation of harmful pollutants in indoor air. These products often contain phthalates and other toxic substances known to be carcinogenic. Ensuring proper ventilation when using these products can help reduce risks ([Health Prep](https://healthprep.com/articles/living-healthy/20-toxic-products-you-use-every-day-without-even-realizing-it/)).\\n\\n## Recommendations for Avoiding Carcinogens\\n\\n### 1. Choose Natural Alternatives\\nOpt for natural sweeteners like honey or maple syrup instead of artificial sweeteners. For cleaning, consider using vinegar, baking soda, or essential oils as alternatives to synthetic cleaners.\\n\\n### 2. Avoid Plastic\\nMinimize the use of plastic containers, especially for heating food in microwaves. Instead, invest in glass or stainless-steel containers, which are safer for food storage.\\n\\n### 3. Increase Air Quality\\nImprove indoor air quality by using air purifiers and ensuring good ventilation. Substitute air fresheners with natural options such as essential oils or fresh flowers.\\n\\n### 4. Read Labels\\nWhen purchasing food and household products, read labels carefully to avoid those that contain known carcinogens. Look for items labeled as free from BPA, phthalates, and other harmful chemicals.\\n\\n### 5. Adopt a Healthy Diet\\nIncorporate a balanced diet rich in fruits, vegetables, and whole grains. Certain foods have protective effects against cancer, such as cruciferous vegetables (broccoli, kale) and foods rich in antioxidants.\\n\\n## Conclusion\\nAwareness of carcinogenic items in our daily lives is essential for reducing cancer risk. By making informed choices and adopting healthier alternatives, we can significantly minimize our exposure to these harmful substances. Continuous research and education on this topic will aid in promoting public health and safety.', name='WebSearch')]}}\n",
      "---\n",
      "{'Supervisor': {'next': 'Medical Report Team'}}\n",
      "---\n",
      "{'Medical Report Team': {'messages': [HumanMessage(content='I have successfully edited and saved the document titled \"Report on Carcinogenic Items, Foods, and Products in Daily Life.\" The content has been refined for grammar, spelling, and overall tone. If you need further assistance or edits, feel free to ask!', name='CopyEditor')]}}\n",
      "---\n",
      "{'Supervisor': {'next': 'FINISH'}}\n",
      "---\n"
     ]
    }
   ],
   "source": [
    "for s in super_graph.stream(\n",
    "    process_user_query(\"Write a report on carcinogenic items, foods and products we encounter in our daily lives, and offer some suggestions for avoiding such carcinogens.\"),\n",
    "    {'recursion_limit' : 30},\n",
    "):\n",
    "    if \"__end__\" not in s:\n",
    "        print(s)\n",
    "        print(\"---\")"
   ]
  },
  {
   "cell_type": "code",
   "execution_count": null,
   "metadata": {},
   "outputs": [],
   "source": []
  }
 ],
 "metadata": {
  "kernelspec": {
   "display_name": "Python 3",
   "language": "python",
   "name": "python3"
  },
  "language_info": {
   "codemirror_mode": {
    "name": "ipython",
    "version": 3
   },
   "file_extension": ".py",
   "mimetype": "text/x-python",
   "name": "python",
   "nbconvert_exporter": "python",
   "pygments_lexer": "ipython3",
   "version": "3.12.8"
  }
 },
 "nbformat": 4,
 "nbformat_minor": 2
}
